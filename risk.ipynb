{
 "cells": [
  {
   "cell_type": "code",
   "execution_count": 1,
   "metadata": {},
   "outputs": [],
   "source": [
    "from itertools import combinations\n",
    "from collections import defaultdict\n",
    "from collections import Counter"
   ]
  },
  {
   "cell_type": "code",
   "execution_count": 2,
   "metadata": {},
   "outputs": [],
   "source": [
    "class Risk():\n",
    "    '''\n",
    "    Risk base class. \n",
    "    '''\n",
    "\n",
    "    def __init__(self):\n",
    "        \n",
    "        self.base_map = {'EUROPE':0,\n",
    "                        'ASIA':0,\n",
    "                        'OCEANIA':0,\n",
    "                        'NORTH AMERICA':0,\n",
    "                        'SOUTH AMERICA':0,\n",
    "                        'AFRICA':0}\n",
    "\n",
    "        self.global_map = self.base_map\n",
    "        \n",
    "        self.player_map = defaultdict(dict)\n",
    "        self.players = []\n",
    "        self.connections = {('EUROPE', 'ASIA'),\n",
    "                            ('EUROPE', 'AFRICA'),\n",
    "                            ('AFRICA', 'SOUTH AMERICA'),\n",
    "                            ('SOUTH AMERICA', 'NORTH AMERICA'),\n",
    "                            ('NORTH AMERICA', 'EUROPE'),\n",
    "                            ('NORTH AMERICA', 'ASIA'),\n",
    "                            ('ASIA', 'OCEANIA'),}\n",
    "    \n",
    "    def __repr__(self):\n",
    "        return str(self.global_map)\n",
    "    \n",
    "    def _update_global_map(self, kwargs):\n",
    "        upd_map = dict(Counter(self.global_map)+Counter(kwargs))\n",
    "        self.global_map.update(upd_map)\n",
    "    \n",
    "    def add_player(self, player, kwargs):\n",
    "        self.players.append(player)\n",
    "        self.player_map[player] = self.base_map.copy()\n",
    "        self.player_map[player].update(kwargs)\n",
    "        self._update_global_map(kwargs)\n",
    "        \n",
    "    def get_neightbours(self, country):\n",
    "        neightbours = []\n",
    "        for s in self.connections:\n",
    "            if country in s:\n",
    "                for c in s:\n",
    "                    if c != country:\n",
    "                        neightbours.append(c)\n",
    "        return neightbours\n",
    "    \n",
    "    \n",
    "    "
   ]
  },
  {
   "cell_type": "code",
   "execution_count": 3,
   "metadata": {},
   "outputs": [],
   "source": [
    "game = Risk()"
   ]
  },
  {
   "cell_type": "code",
   "execution_count": 4,
   "metadata": {},
   "outputs": [
    {
     "data": {
      "text/plain": [
       "{'EUROPE': 0, 'ASIA': 0, 'OCEANIA': 0, 'NORTH AMERICA': 0, 'SOUTH AMERICA': 0, 'AFRICA': 0}"
      ]
     },
     "execution_count": 4,
     "metadata": {},
     "output_type": "execute_result"
    }
   ],
   "source": [
    "game"
   ]
  },
  {
   "cell_type": "code",
   "execution_count": 5,
   "metadata": {},
   "outputs": [],
   "source": [
    "state = {'OCEANIA':54,\n",
    "         'NORTH AMERICA':2,\n",
    "         'AFRICA':4}"
   ]
  },
  {
   "cell_type": "code",
   "execution_count": 10,
   "metadata": {},
   "outputs": [],
   "source": [
    "game.add_player('player2', state)"
   ]
  },
  {
   "cell_type": "code",
   "execution_count": 11,
   "metadata": {},
   "outputs": [
    {
     "data": {
      "text/plain": [
       "['biel', 'player2']"
      ]
     },
     "execution_count": 11,
     "metadata": {},
     "output_type": "execute_result"
    }
   ],
   "source": [
    "game.players"
   ]
  },
  {
   "cell_type": "code",
   "execution_count": 12,
   "metadata": {},
   "outputs": [
    {
     "data": {
      "text/plain": [
       "{'EUROPE': 0,\n",
       " 'ASIA': 0,\n",
       " 'OCEANIA': 108,\n",
       " 'NORTH AMERICA': 4,\n",
       " 'SOUTH AMERICA': 0,\n",
       " 'AFRICA': 8}"
      ]
     },
     "execution_count": 12,
     "metadata": {},
     "output_type": "execute_result"
    }
   ],
   "source": [
    "game.global_map"
   ]
  },
  {
   "cell_type": "code",
   "execution_count": 14,
   "metadata": {},
   "outputs": [
    {
     "data": {
      "text/plain": [
       "collections.defaultdict"
      ]
     },
     "execution_count": 14,
     "metadata": {},
     "output_type": "execute_result"
    }
   ],
   "source": []
  },
  {
   "cell_type": "code",
   "execution_count": 15,
   "metadata": {},
   "outputs": [],
   "source": [
    "map_dict = {}"
   ]
  },
  {
   "cell_type": "code",
   "execution_count": 16,
   "metadata": {},
   "outputs": [],
   "source": [
    "map_dict['player1'] = {'EUROPE': 0,\n",
    "                        'ASIA': 0,\n",
    "                        'OCEANIA': 108,\n",
    "                        'NORTH AMERICA': 4,\n",
    "                        'SOUTH AMERICA': 0,\n",
    "                        'AFRICA': 8}"
   ]
  },
  {
   "cell_type": "code",
   "execution_count": 17,
   "metadata": {},
   "outputs": [
    {
     "data": {
      "text/plain": [
       "{'player1': {'EUROPE': 0,\n",
       "  'ASIA': 0,\n",
       "  'OCEANIA': 108,\n",
       "  'NORTH AMERICA': 4,\n",
       "  'SOUTH AMERICA': 0,\n",
       "  'AFRICA': 8}}"
      ]
     },
     "execution_count": 17,
     "metadata": {},
     "output_type": "execute_result"
    }
   ],
   "source": [
    "map_dict"
   ]
  },
  {
   "cell_type": "code",
   "execution_count": null,
   "metadata": {},
   "outputs": [],
   "source": []
  }
 ],
 "metadata": {
  "kernelspec": {
   "display_name": "Python [default]",
   "language": "python",
   "name": "python3"
  },
  "language_info": {
   "codemirror_mode": {
    "name": "ipython",
    "version": 3
   },
   "file_extension": ".py",
   "mimetype": "text/x-python",
   "name": "python",
   "nbconvert_exporter": "python",
   "pygments_lexer": "ipython3",
   "version": "3.6.5"
  }
 },
 "nbformat": 4,
 "nbformat_minor": 2
}
